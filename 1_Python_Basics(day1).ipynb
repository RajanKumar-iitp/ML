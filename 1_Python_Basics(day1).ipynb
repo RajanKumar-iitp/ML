{
  "nbformat": 4,
  "nbformat_minor": 0,
  "metadata": {
    "colab": {
      "provenance": []
    },
    "kernelspec": {
      "display_name": "Python 3",
      "language": "python",
      "name": "python3"
    },
    "language_info": {
      "codemirror_mode": {
        "name": "ipython",
        "version": 3
      },
      "file_extension": ".py",
      "mimetype": "text/x-python",
      "name": "python",
      "nbconvert_exporter": "python",
      "pygments_lexer": "ipython3",
      "version": "3.5.4"
    }
  },
  "cells": [
    {
      "cell_type": "markdown",
      "metadata": {
        "id": "opP00nTGg2WV"
      },
      "source": [
        "# Python Basics"
      ]
    },
    {
      "cell_type": "code",
      "metadata": {
        "id": "HK8LpCwPg2WX",
        "outputId": "44a6c820-ff54-4ebc-ba8e-07e9f4965da7",
        "colab": {
          "base_uri": "https://localhost:8080/"
        }
      },
      "source": [
        "# Printing a string\n",
        "print(\"Hello, Python! All\")\n",
        "print('hiiiasdfii')\n",
        "print('sat')"
      ],
      "execution_count": null,
      "outputs": [
        {
          "output_type": "stream",
          "name": "stdout",
          "text": [
            "Hello, Python! All\n",
            "hiiiasdfii\n",
            "sat\n"
          ]
        }
      ]
    },
    {
      "cell_type": "markdown",
      "metadata": {
        "id": "RaoPVoGOg2WY"
      },
      "source": [
        "# Variables"
      ]
    },
    {
      "cell_type": "code",
      "metadata": {
        "colab": {
          "base_uri": "https://localhost:8080/"
        },
        "id": "mZb6msZ3g2WZ",
        "outputId": "ee336714-bd09-4faa-c87d-a518dbf8b102"
      },
      "source": [
        "# defining a variable : In Python there is no need to mention the data type\n",
        "\n",
        "var1 = 10      # An integer assignment\n",
        "var2 = 3.2222   # A floating point\n",
        "var3 = \"Hello\" # A string\n",
        "\n",
        "print(var1,' ',var2,' ',var3)"
      ],
      "execution_count": null,
      "outputs": [
        {
          "output_type": "stream",
          "name": "stdout",
          "text": [
            "10   3.2222   Hello\n"
          ]
        }
      ]
    },
    {
      "cell_type": "code",
      "source": [
        "print(type(var1))\n",
        "print(type(var2))\n",
        "print(type(var3))"
      ],
      "metadata": {
        "colab": {
          "base_uri": "https://localhost:8080/"
        },
        "id": "WcFIXYo1LKF3",
        "outputId": "5873cf3c-59b8-4067-c767-3d95d24bb124"
      },
      "execution_count": null,
      "outputs": [
        {
          "output_type": "stream",
          "name": "stdout",
          "text": [
            "<class 'int'>\n",
            "<class 'float'>\n",
            "<class 'str'>\n"
          ]
        }
      ]
    },
    {
      "cell_type": "code",
      "metadata": {
        "colab": {
          "base_uri": "https://localhost:8080/"
        },
        "id": "82r7_p02g2WZ",
        "outputId": "97d48d10-dac5-4189-ae29-7b5def8b57e0"
      },
      "source": [
        "pi = 3.14\n",
        "print (\"Value of Pi is\",pi)"
      ],
      "execution_count": null,
      "outputs": [
        {
          "output_type": "stream",
          "name": "stdout",
          "text": [
            "Value of Pi is 3.14\n"
          ]
        }
      ]
    },
    {
      "cell_type": "markdown",
      "metadata": {
        "id": "jE67K5gcg2Wa"
      },
      "source": [
        "### Assignment"
      ]
    },
    {
      "cell_type": "code",
      "metadata": {
        "id": "QLan1XJ2g2Wb",
        "colab": {
          "base_uri": "https://localhost:8080/"
        },
        "outputId": "b3e71e37-54b2-45ee-e0b7-807346451915"
      },
      "source": [
        "# Assigning same value to multiple variables\n",
        "\n",
        "var1 = var2 = var3 = 1\n",
        "print(var1,' ',var2,' ',var3)\n",
        "\n",
        "# Assigning Different values to variable in a single expression\n",
        "\n",
        "var1, var2, var3 = 1, 2.5, \"john\"\n",
        "print(var1,' ',var2,' ',var3)\n",
        "\n",
        "# Note: commas can be used for multi-assignments"
      ],
      "execution_count": null,
      "outputs": [
        {
          "output_type": "stream",
          "name": "stdout",
          "text": [
            "1   1   1\n",
            "1   2.5   john\n"
          ]
        }
      ]
    },
    {
      "cell_type": "markdown",
      "metadata": {
        "id": "NWVbhFfKg2Wb"
      },
      "source": [
        "### Slicing"
      ]
    },
    {
      "cell_type": "code",
      "metadata": {
        "id": "8w-TfRkog2Wc",
        "colab": {
          "base_uri": "https://localhost:8080/"
        },
        "outputId": "10e6eb66-eeab-4e72-a009-7252be8239d8"
      },
      "source": [
        "# String operations\n",
        "\n",
        "str = 'Hello World!'  # A string\n",
        "\n",
        "print(str)          # Prints complete string\n",
        "print(str[0])       # Prints first character of the string\n",
        "print(str[2:5])     # Prints characters starting from 3rd to 5th element\n",
        "print(str[2:])      # Prints string starting from 3rd character\n",
        "print(str[:2])\n",
        "print(str * 2)# Prints string two times\n",
        "str1 =str*10\n",
        "print(str1)\n",
        "print(str + \"TEST\") # Prints concatenated string"
      ],
      "execution_count": null,
      "outputs": [
        {
          "output_type": "stream",
          "name": "stdout",
          "text": [
            "Hello World!\n",
            "H\n",
            "llo\n",
            "llo World!\n",
            "He\n",
            "Hello World!Hello World!\n",
            "Hello World!Hello World!Hello World!Hello World!Hello World!Hello World!Hello World!Hello World!Hello World!Hello World!\n",
            "Hello World!TEST\n"
          ]
        }
      ]
    },
    {
      "cell_type": "markdown",
      "metadata": {
        "id": "vu-wwKc9g2Wc"
      },
      "source": [
        "### Data types"
      ]
    },
    {
      "cell_type": "code",
      "metadata": {
        "colab": {
          "base_uri": "https://localhost:8080/"
        },
        "id": "nSfJ59Xvg2Wc",
        "outputId": "178e0a08-a050-477c-f5de-396d9de45d71"
      },
      "source": [
        "# Python Lists\n",
        "list = [ 'abcd', 786 , 2.23, 'john', 70.2 ]  # A list\n",
        "tuple = ( 'abcd', 786 , 2.23, 'john', 70.2  ) # A tuple. Tuples are immutable, i.e. cannot be edit later\n",
        "\n",
        "print(list)            # Prints complete list\n",
        "print(list[1])         # Prints first element of the list\n",
        "print(tuple[1:3])        # Prints elements starting from 2nd till 3rd"
      ],
      "execution_count": null,
      "outputs": [
        {
          "output_type": "stream",
          "name": "stdout",
          "text": [
            "['abcd', 786, 2.23, 'john', 70.2]\n",
            "786\n",
            "(786, 2.23)\n"
          ]
        }
      ]
    },
    {
      "cell_type": "code",
      "metadata": {
        "id": "omNtb91jg2Wd",
        "colab": {
          "base_uri": "https://localhost:8080/"
        },
        "outputId": "4d75b930-1af0-4fe0-af4e-89b4d2ceb2e3"
      },
      "source": [
        "# Lists are ordered sets of objects, whereas dictionaries are unordered sets. But the main difference is that items in dictionaries are accessed via keys and not via their position.\n",
        "tel = {'jack': 4098, 'sape': 4139}\n",
        "tel['guido'] = 4127\n",
        "\n",
        "print(tel)\n",
        "print(tel['jack'])\n",
        "\n",
        "del tel['sape']\n",
        "\n",
        "tel['irv'] = 4127\n",
        "print(tel)\n",
        "print(tel.keys())\n",
        "print(sorted(tel.keys()))\n",
        "print(sorted(tel.values()))\n",
        "print('guido' in tel)\n",
        "print('jack2' not in tel)\n"
      ],
      "execution_count": null,
      "outputs": [
        {
          "output_type": "stream",
          "name": "stdout",
          "text": [
            "{'jack': 4098, 'sape': 4139, 'guido': 4127}\n",
            "4098\n",
            "{'jack': 4098, 'guido': 4127, 'irv': 4127}\n",
            "dict_keys(['jack', 'guido', 'irv'])\n",
            "['guido', 'irv', 'jack']\n",
            "[4098, 4127, 4127]\n",
            "True\n",
            "True\n"
          ]
        }
      ]
    },
    {
      "cell_type": "markdown",
      "metadata": {
        "id": "Q51sNKR9g2Wd"
      },
      "source": [
        "###  Conditioning and looping"
      ]
    },
    {
      "cell_type": "code",
      "metadata": {
        "id": "39CYdJ2wg2Wd",
        "colab": {
          "base_uri": "https://localhost:8080/"
        },
        "outputId": "c0279bab-a7b7-46a5-d8b2-7dbe0f8cd055"
      },
      "source": [
        "# Square of Even numbers\n",
        "\n",
        "for i in range(0,10): #1\n",
        "\n",
        "    if i%2 == 0:   #2\n",
        "        print(\"Square of \",i,\" is :\",i*i)   #3\n",
        "\n",
        "    else:                                #4\n",
        "        print(i,\"is an odd number\")    #5\n",
        "print(\"sjkdhfjkhsd;\")\n",
        "print(\"end loop\")"
      ],
      "execution_count": null,
      "outputs": [
        {
          "output_type": "stream",
          "name": "stdout",
          "text": [
            "Square of  0  is : 0\n",
            "1 is an odd number\n",
            "Square of  2  is : 4\n",
            "3 is an odd number\n",
            "Square of  4  is : 16\n",
            "5 is an odd number\n",
            "Square of  6  is : 36\n",
            "7 is an odd number\n",
            "Square of  8  is : 64\n",
            "9 is an odd number\n",
            "sjkdhfjkhsd;\n",
            "end loop\n"
          ]
        }
      ]
    },
    {
      "cell_type": "markdown",
      "metadata": {
        "id": "D0Btbdgdg2We"
      },
      "source": [
        "### Built-in Functions"
      ]
    },
    {
      "cell_type": "code",
      "metadata": {
        "id": "MAeJPQg-g2We",
        "colab": {
          "base_uri": "https://localhost:8080/"
        },
        "outputId": "deede678-a456-41f4-f562-6cebbef3dd95"
      },
      "source": [
        "print(\"Sum of array: \",sum([1,2,3,4]))\n",
        "print(\"Length of array: \",len([1,2,3,4]))\n",
        "print(\"Absolute value: \",abs(-1234))\n",
        "print(\"Round value: \",round(1.2234))\n",
        "\n",
        "import math as mt      # importing a package\n",
        "print(\"Log value: \",mt.log(10))"
      ],
      "execution_count": null,
      "outputs": [
        {
          "output_type": "stream",
          "name": "stdout",
          "text": [
            "Sum of array:  10\n",
            "Length of array:  4\n",
            "Absolute value:  1234\n",
            "Round value:  1\n",
            "Log value:  2.302585092994046\n"
          ]
        }
      ]
    },
    {
      "cell_type": "markdown",
      "metadata": {
        "id": "jrkJsZYYg2We"
      },
      "source": [
        "### Functions"
      ]
    },
    {
      "cell_type": "code",
      "metadata": {
        "colab": {
          "base_uri": "https://localhost:8080/"
        },
        "id": "1Xz_K2Itg2Wf",
        "outputId": "6be1f9c3-7b4b-4d06-e9f5-1fc4090c22f8"
      },
      "source": [
        "def area(length,width):\n",
        "    return length*width, 2*(length+width)\n",
        "are,p = area(10,20)\n",
        "print(\"Area of rectangle:\",are,\"   \",p)"
      ],
      "execution_count": null,
      "outputs": [
        {
          "output_type": "stream",
          "name": "stdout",
          "text": [
            "Area of rectangle: 200     60\n"
          ]
        }
      ]
    },
    {
      "cell_type": "markdown",
      "metadata": {
        "collapsed": true,
        "id": "OEae-RY_g2Wf"
      },
      "source": [
        "### Broadcasting\n",
        "* Subject to certain constraints, the smaller array is “broadcast” across the larger array so that they have compatible shapes\n",
        "\n",
        "### NumPy\n",
        "* Numpy is the fundamental package for numerical computing with Python. It contains among other things:\n",
        "* a powerful N-dimensional array object\n",
        "* sophisticated (broadcasting) functions\n",
        "* tools for integrating C/C++ and Fortran code\n",
        "* useful linear algebra, Fourier transform, and random number capabilities"
      ]
    },
    {
      "cell_type": "code",
      "metadata": {
        "colab": {
          "base_uri": "https://localhost:8080/"
        },
        "id": "WoFZf4yYg2Wf",
        "outputId": "71886d36-024b-4cf9-a562-2efb2115b4fa"
      },
      "source": [
        "import numpy as np   # Importing libraries\n",
        "\n",
        "a = np.array([0, 1, 2])\n",
        "b = np.array([5, 5, 5])\n",
        "c = np.array([3, 5])\n",
        "\n",
        "print(\"Matrix A\\n\", a)\n",
        "print(\"Matrix B\\n\", b)\n",
        "\n",
        "print(\"Regular matrix addition A+B\\n\", a + b)\n",
        "\n",
        "print(\"Addition using Broadcasting A+5\\n\", a + 5)\n",
        "\n",
        "# print(\"Addition using Broadcasting A+5\\n\", a*c)"
      ],
      "execution_count": null,
      "outputs": [
        {
          "output_type": "stream",
          "name": "stdout",
          "text": [
            "Matrix A\n",
            " [0 1 2]\n",
            "Matrix B\n",
            " [5 5 5]\n",
            "Regular matrix addition A+B\n",
            " [5 6 7]\n",
            "Addition using Broadcasting A+5\n",
            " [5 6 7]\n"
          ]
        }
      ]
    },
    {
      "cell_type": "markdown",
      "metadata": {
        "id": "BS7XjT06g2Wg"
      },
      "source": [
        "### Broadcasting Rules\n",
        "When operating on two arrays, NumPy compares their shapes element-wise. It starts with the trailing dimensions, and works its way forward. Two dimensions are compatible when\n",
        "\n",
        "1. they are equal, or\n",
        "2.  one of them is 1\n"
      ]
    },
    {
      "cell_type": "code",
      "metadata": {
        "colab": {
          "base_uri": "https://localhost:8080/"
        },
        "id": "9R6CtpBJg2Wg",
        "outputId": "7e80d933-77c5-42f1-c274-fe49fd198488"
      },
      "source": [
        "# Lets go for a 2D matrix\n",
        "c = np.array([[0, 1, 2],[3, 4, 5],[6, 7, 8]])\n",
        "d = np.array([[1, 2, 3],[1, 2, 3],[1, 2, 3]])\n",
        "\n",
        "e = np.array([1, 2, 3])\n",
        "\n",
        "print(\"Matrix C\\n\", c)\n",
        "print(\"Matrix D\\n\", d)\n",
        "print(\"Matrix E\\n\", e)\n",
        "\n",
        "print(\"Regular matrix addition C+D\\n\", c + d)\n",
        "\n",
        "print(\"Addition using Broadcasting C+E\\n\", c + e)"
      ],
      "execution_count": null,
      "outputs": [
        {
          "output_type": "stream",
          "name": "stdout",
          "text": [
            "Matrix C\n",
            " [[0 1 2]\n",
            " [3 4 5]\n",
            " [6 7 8]]\n",
            "Matrix D\n",
            " [[1 2 3]\n",
            " [1 2 3]\n",
            " [1 2 3]]\n",
            "Matrix E\n",
            " [1 2 3]\n",
            "Regular matrix addition C+D\n",
            " [[ 1  3  5]\n",
            " [ 4  6  8]\n",
            " [ 7  9 11]]\n",
            "Addition using Broadcasting C+E\n",
            " [[ 1  3  5]\n",
            " [ 4  6  8]\n",
            " [ 7  9 11]]\n"
          ]
        }
      ]
    },
    {
      "cell_type": "code",
      "metadata": {
        "colab": {
          "base_uri": "https://localhost:8080/"
        },
        "id": "uoKiV43cg2Wh",
        "outputId": "3aebde08-eb28-4b74-e72c-d61501b7bee1"
      },
      "source": [
        "M = np.ones((3, 3))\n",
        "print(\"Matrix M:\\n\",M)"
      ],
      "execution_count": null,
      "outputs": [
        {
          "output_type": "stream",
          "name": "stdout",
          "text": [
            "Matrix M:\n",
            " [[1. 1. 1.]\n",
            " [1. 1. 1.]\n",
            " [1. 1. 1.]]\n"
          ]
        }
      ]
    },
    {
      "cell_type": "code",
      "metadata": {
        "colab": {
          "base_uri": "https://localhost:8080/"
        },
        "id": "q31MzQgxg2Wh",
        "scrolled": true,
        "outputId": "adc1fa3b-d753-4aa7-c8cf-40b1b2905689"
      },
      "source": [
        "print(\"Dimension of M: \",M.shape)\n",
        "print(\"Dimension of a: \",a.shape)\n",
        "print(\"Addition using Broadcasting\")\n",
        "print(M + a)\n",
        "# Broadcasting array with matrix"
      ],
      "execution_count": null,
      "outputs": [
        {
          "output_type": "stream",
          "name": "stdout",
          "text": [
            "Dimension of M:  (3, 3)\n",
            "Dimension of a:  (3,)\n",
            "Addition using Broadcasting\n",
            "[[1. 2. 3.]\n",
            " [1. 2. 3.]\n",
            " [1. 2. 3.]]\n"
          ]
        }
      ]
    },
    {
      "cell_type": "markdown",
      "metadata": {
        "id": "vukU4EiVg2Wi"
      },
      "source": [
        "## All in one program"
      ]
    },
    {
      "cell_type": "code",
      "metadata": {
        "id": "1XAQQ-nFg2Wi",
        "colab": {
          "base_uri": "https://localhost:8080/"
        },
        "outputId": "856b8648-969c-48d9-d7fc-eeb01371eafa"
      },
      "source": [
        "# Importing libraries\n",
        "import timeit\n",
        "\n",
        "# Usage of builtin functions\n",
        "start = timeit.default_timer()\n",
        "\n",
        "# Defining a list\n",
        "array_list = [10,11,15,19,21,32]\n",
        "array_np_list = []\n",
        "\n",
        "# Print the list\n",
        "print(\"Original List\",array_list,\"\\n\")\n",
        "\n",
        "# Defining a function\n",
        "def prime(num):\n",
        "    if num > 1:\n",
        "\n",
        "        # check for factors\n",
        "        # Iterating a range of numbers\n",
        "        for i in range(2,num):\n",
        "            if (num % i) == 0:\n",
        "\n",
        "                # Appending data to list\n",
        "                array_np_list.append(num)\n",
        "                print(num,\"is not a prime number (\",i,\"times\",num//i,\"is\",num,\")\")\n",
        "\n",
        "                # Terminating a loop run\n",
        "                break\n",
        "        else:\n",
        "            print(num,\"is a prime number\")\n",
        "\n",
        "# Iterating a list\n",
        "for item in array_list:\n",
        "\n",
        "    # Calling a function\n",
        "    prime(item)\n",
        "\n",
        "print(\"\\nNon-prime List\",array_np_list,\"\\n\")\n",
        "\n",
        "end = timeit.default_timer()\n",
        "\n",
        "# Computing running time\n",
        "print(\"Time Taken to run the program:\",end - start, \"seconds\")"
      ],
      "execution_count": null,
      "outputs": [
        {
          "output_type": "stream",
          "name": "stdout",
          "text": [
            "Original List [10, 11, 15, 19, 21, 32] \n",
            "\n",
            "10 is not a prime number ( 2 times 5 is 10 )\n",
            "11 is a prime number\n",
            "15 is not a prime number ( 3 times 5 is 15 )\n",
            "19 is a prime number\n",
            "21 is not a prime number ( 3 times 7 is 21 )\n",
            "32 is not a prime number ( 2 times 16 is 32 )\n",
            "\n",
            "Non-prime List [10, 15, 21, 32] \n",
            "\n",
            "Time Taken to run the program: 0.0015052589999982047 seconds\n"
          ]
        }
      ]
    },
    {
      "cell_type": "markdown",
      "metadata": {
        "id": "QT5zVspSg2Wj"
      },
      "source": [
        "### Note:\n",
        "* Python is a procedural Language\n",
        "* Two versions of Python 2 vs 3\n",
        "* No braces. i.e. indentation\n",
        "* No need to explicitly mention data type"
      ]
    },
    {
      "cell_type": "markdown",
      "metadata": {
        "id": "YaxrQ1wGg2Wj"
      },
      "source": [
        "## Unvectorized vs Vectorized Implementations"
      ]
    },
    {
      "cell_type": "code",
      "metadata": {
        "id": "qgRefuWkg2Wk",
        "colab": {
          "base_uri": "https://localhost:8080/"
        },
        "outputId": "5420766c-5eed-44ee-e81c-7afd53e80dba"
      },
      "source": [
        "# Importing libraries\n",
        "import numpy as np\n",
        "\n",
        "# Defining matrices\n",
        "mat_a = [[6, 7, 8],[5, 4, 5],[1, 1, 1]]\n",
        "mat_b = [[1, 2, 3],[1, 2, 3],[1, 2, 3]]\n",
        "\n",
        "# Getting a row from matrix\n",
        "def get_row(matrix, row):\n",
        "    return matrix[row]\n",
        "\n",
        "# Getting a coloumn from matrix\n",
        "def get_column(matrix, column_number):\n",
        "    column = []\n",
        "\n",
        "    for i in range(len(matrix)):\n",
        "        column.append(matrix[i][column_number])\n",
        "\n",
        "    return column\n",
        "\n",
        "# Multiply a row with coloumn\n",
        "def unv_dot_product(vector_one, vector_two):\n",
        "    total = 0\n",
        "\n",
        "    if len(vector_one) != len(vector_two):\n",
        "        return total\n",
        "\n",
        "    for i in range(len(vector_one)):\n",
        "        product = vector_one[i] * vector_two[i]\n",
        "        total += product\n",
        "\n",
        "    return total\n",
        "\n",
        "# Multiply two matrixes\n",
        "def matrix_multiplication(matrix_one, matrix_two):\n",
        "    m_rows = len(matrix_one)\n",
        "    p_columns = len(matrix_two[0])\n",
        "    result = []\n",
        "\n",
        "    for i in range(m_rows):\n",
        "        row_result = []\n",
        "\n",
        "        for j in range(p_columns):\n",
        "            row = get_row(matrix_one, i)\n",
        "            column = get_column(matrix_two, j)\n",
        "            product = unv_dot_product(row, column)\n",
        "\n",
        "            row_result.append(product)\n",
        "        result.append(row_result)\n",
        "\n",
        "    return result\n",
        "\n",
        "print(\"Matrix A: \", mat_a,\"\\n\")\n",
        "print(\"Matrix B: \", mat_b,\"\\n\")\n",
        "\n",
        "print(\"Unvectorized Matrix Multiplication\\n\",matrix_multiplication(mat_a,mat_b),\"\\n\")\n"
      ],
      "execution_count": null,
      "outputs": [
        {
          "output_type": "stream",
          "name": "stdout",
          "text": [
            "Matrix A:  [[6, 7, 8], [5, 4, 5], [1, 1, 1]] \n",
            "\n",
            "Matrix B:  [[1, 2, 3], [1, 2, 3], [1, 2, 3]] \n",
            "\n",
            "Unvectorized Matrix Multiplication\n",
            " [[21, 42, 63], [14, 28, 42], [3, 6, 9]] \n",
            "\n"
          ]
        }
      ]
    },
    {
      "cell_type": "code",
      "metadata": {
        "id": "hJqvLN0Wg2Wl",
        "colab": {
          "base_uri": "https://localhost:8080/"
        },
        "outputId": "4b22a958-b499-41f1-a864-484d21cb89c2"
      },
      "source": [
        "# Vectorized Implementation\n",
        "npm_a = np.array(mat_a)\n",
        "npm_b = np.array(mat_b)\n",
        "\n",
        "print(\"Vectorized Matrix Multiplication\\n\",npm_a.dot(npm_b),\"\\n\")\n",
        "# A.dot(B) is a numpy built-in function for dot product"
      ],
      "execution_count": null,
      "outputs": [
        {
          "output_type": "stream",
          "name": "stdout",
          "text": [
            "Vectorized Matrix Multiplication\n",
            " [[21 42 63]\n",
            " [14 28 42]\n",
            " [ 3  6  9]] \n",
            "\n"
          ]
        }
      ]
    },
    {
      "cell_type": "markdown",
      "metadata": {
        "id": "MqHTft6Ug2Wl"
      },
      "source": [
        "### Tip:\n",
        "* Vectorization reduces number of lines of code\n",
        "* Always prefer libraries and avoid coding from scratch"
      ]
    },
    {
      "cell_type": "markdown",
      "metadata": {
        "id": "frs5FQaeg2Wl"
      },
      "source": [
        "## Essential Python Packages: Numpy, Pandas, Matplotlib"
      ]
    },
    {
      "cell_type": "code",
      "metadata": {
        "id": "YIz1DLacg2Wm"
      },
      "source": [
        "# Load library\n",
        "import numpy as np"
      ],
      "execution_count": null,
      "outputs": []
    },
    {
      "cell_type": "code",
      "metadata": {
        "id": "_4aii_SPg2Wm",
        "colab": {
          "base_uri": "https://localhost:8080/"
        },
        "outputId": "6f84b53c-ddd8-4995-8aba-28d87aa5528c"
      },
      "source": [
        "# Create row vector\n",
        "vector = np.array([1, 2, 3, 4, 5, 6])\n",
        "print(\"Vector:\",vector)\n",
        "\n",
        "# Select second element\n",
        "print(\"Element 2 in Vector is\",vector[1])"
      ],
      "execution_count": null,
      "outputs": [
        {
          "output_type": "stream",
          "name": "stdout",
          "text": [
            "Vector: [1 2 3 4 5 6]\n",
            "Element 2 in Vector is 2\n"
          ]
        }
      ]
    },
    {
      "cell_type": "code",
      "metadata": {
        "id": "ah-WKikXg2Wm",
        "colab": {
          "base_uri": "https://localhost:8080/"
        },
        "outputId": "25411c92-d46c-4074-cabb-edbdfca5c354"
      },
      "source": [
        "# Create matrix\n",
        "matrix = np.array([[1, 2, 3],\n",
        "                   [4, 5, 6],\n",
        "                   [7, 8, 9]])\n",
        "\n",
        "print(\"Matrix\\n\",matrix)\n",
        "\n",
        "# Select second row\n",
        "print(\"Second row of Matrix\\n\",matrix[1,:])\n",
        "print(\"Third coloumn of Matrix\\n\",matrix[:,2])"
      ],
      "execution_count": null,
      "outputs": [
        {
          "output_type": "stream",
          "name": "stdout",
          "text": [
            "Matrix\n",
            " [[1 2 3]\n",
            " [4 5 6]\n",
            " [7 8 9]]\n",
            "Second row of Matrix\n",
            " [4 5 6]\n",
            "Third coloumn of Matrix\n",
            " [3 6 9]\n"
          ]
        }
      ]
    },
    {
      "cell_type": "code",
      "metadata": {
        "id": "11HgJ6Ctg2Wm",
        "colab": {
          "base_uri": "https://localhost:8080/"
        },
        "outputId": "eefeaf1d-0e26-4337-fa5f-2dab1c8b60e7"
      },
      "source": [
        "# Create Tensor\n",
        "tensor = np.array([ [[[1, 1], [1, 1]], [[2, 2], [2, 2]]],\n",
        "                    [[[3, 3], [3, 3]], [[4, 4], [4, 4]]] ])\n",
        "\n",
        "print(\"Tensor\\n\",tensor)"
      ],
      "execution_count": null,
      "outputs": [
        {
          "output_type": "stream",
          "name": "stdout",
          "text": [
            "Tensor\n",
            " [[[[1 1]\n",
            "   [1 1]]\n",
            "\n",
            "  [[2 2]\n",
            "   [2 2]]]\n",
            "\n",
            "\n",
            " [[[3 3]\n",
            "   [3 3]]\n",
            "\n",
            "  [[4 4]\n",
            "   [4 4]]]]\n"
          ]
        }
      ]
    },
    {
      "cell_type": "markdown",
      "metadata": {
        "id": "ZEwdFJ78g2Wn"
      },
      "source": [
        "### Matrix properties"
      ]
    },
    {
      "cell_type": "code",
      "metadata": {
        "id": "CDkGH2tig2Wo",
        "colab": {
          "base_uri": "https://localhost:8080/"
        },
        "outputId": "fc80e42b-e470-48b2-840a-346776001867"
      },
      "source": [
        "# Create matrix\n",
        "matrix = np.array([[1, 2, 3],\n",
        "                   [4, 5, 6],\n",
        "                   [7, 8, 9]])\n",
        "\n",
        "print(\"Matrix Shape:\",matrix.shape)\n",
        "print(\"Number of elements:\",matrix.size)\n",
        "print(\"Number of dimentions:\",matrix.ndim)\n",
        "print(\"Average of matrix:\",np.mean(matrix))\n",
        "print(\"Maximum number:\",np.max(matrix))\n",
        "print(\"Coloumn with minimum numbers:\",np.min(matrix, axis=1))\n",
        "print(\"Diagnol of matrix:\",matrix.diagonal())\n",
        "print(\"Determinant of matrix:\",np.linalg.det(matrix))"
      ],
      "execution_count": null,
      "outputs": [
        {
          "output_type": "stream",
          "name": "stdout",
          "text": [
            "Matrix Shape: (3, 3)\n",
            "Number of elements: 9\n",
            "Number of dimentions: 2\n",
            "Average of matrix: 5.0\n",
            "Maximum number: 9\n",
            "Coloumn with minimum numbers: [1 4 7]\n",
            "Diagnol of matrix: [1 5 9]\n",
            "Determinant of matrix: 0.0\n"
          ]
        }
      ]
    },
    {
      "cell_type": "markdown",
      "metadata": {
        "id": "g4egkBYFg2Wo"
      },
      "source": [
        "### Matrix Operations"
      ]
    },
    {
      "cell_type": "code",
      "metadata": {
        "id": "RqS6nfv_g2Wo",
        "colab": {
          "base_uri": "https://localhost:8080/"
        },
        "outputId": "79720554-2037-48cf-c32c-527186e0dfbc"
      },
      "source": [
        "print(\"Flattened Matrix\\n\",matrix.flatten())\n",
        "print(\"Reshaping Matrix\\n\",matrix.reshape(9,1))\n",
        "print(\"Transposed Matrix\\n\",matrix.T)"
      ],
      "execution_count": null,
      "outputs": [
        {
          "output_type": "stream",
          "name": "stdout",
          "text": [
            "Flattened Matrix\n",
            " [1 2 3 4 5 6 7 8 9]\n",
            "Reshaping Matrix\n",
            " [[1]\n",
            " [2]\n",
            " [3]\n",
            " [4]\n",
            " [5]\n",
            " [6]\n",
            " [7]\n",
            " [8]\n",
            " [9]]\n",
            "Transposed Matrix\n",
            " [[1 4 7]\n",
            " [2 5 8]\n",
            " [3 6 9]]\n"
          ]
        }
      ]
    },
    {
      "cell_type": "code",
      "metadata": {
        "id": "7_QhTqYZg2Wp",
        "colab": {
          "base_uri": "https://localhost:8080/"
        },
        "outputId": "530e18bd-51f4-47ae-9e66-82776500bc94"
      },
      "source": [
        "# Create matrix\n",
        "matrix_a = np.array([[1, 1, 1],\n",
        "                     [1, 1, 1],\n",
        "                     [1, 1, 2]])\n",
        "\n",
        "# Create matrix\n",
        "matrix_b = np.array([[1, 3, 1],\n",
        "                     [1, 3, 1],\n",
        "                     [1, 3, 8]])\n",
        "\n",
        "print(\"Matrix Addition\\n\",np.add(matrix_a, matrix_b))\n",
        "print(\"Scalar Multiplication\\n\",np.multiply(matrix_a, matrix_b))\n",
        "print(\"Matrix Multiplication\\n\",np.dot(matrix_a, matrix_b))"
      ],
      "execution_count": null,
      "outputs": [
        {
          "output_type": "stream",
          "name": "stdout",
          "text": [
            "Matrix Addition\n",
            " [[ 2  4  2]\n",
            " [ 2  4  2]\n",
            " [ 2  4 10]]\n",
            "Scalar Multiplication\n",
            " [[ 1  3  1]\n",
            " [ 1  3  1]\n",
            " [ 1  3 16]]\n",
            "Matrix Multiplication\n",
            " [[ 3  9 10]\n",
            " [ 3  9 10]\n",
            " [ 4 12 18]]\n"
          ]
        }
      ]
    },
    {
      "cell_type": "markdown",
      "metadata": {
        "id": "eWYJlSINg2Wp"
      },
      "source": [
        "### Pandas"
      ]
    },
    {
      "cell_type": "code",
      "metadata": {
        "id": "vQfpBhFTg2Wp"
      },
      "source": [
        "import pandas as pd"
      ],
      "execution_count": null,
      "outputs": []
    },
    {
      "cell_type": "code",
      "metadata": {
        "id": "kBGApbkE66SP"
      },
      "source": [
        "\n",
        "from google.colab import drive\n",
        "\n",
        "drive.mount('/content/gdrive')"
      ],
      "execution_count": null,
      "outputs": []
    },
    {
      "cell_type": "code",
      "metadata": {
        "id": "DsHfdIQng2Wq"
      },
      "source": [
        "df=pd.read_csv(\"gdrive/My Drive/Workshop/IITBHU-Workshop/housing.csv\")\n",
        "print(\"Data\\n\")\n",
        "df"
      ],
      "execution_count": null,
      "outputs": []
    },
    {
      "cell_type": "code",
      "metadata": {
        "id": "Rx-TJBWxg2Wq"
      },
      "source": [
        "print(\"Top Elements\\n\")\n",
        "df.head(3)"
      ],
      "execution_count": null,
      "outputs": []
    },
    {
      "cell_type": "code",
      "metadata": {
        "id": "JE2XcjZ9g2Wr"
      },
      "source": [
        "print(\"Bottom Elements\\n\")\n",
        "df.tail(3)"
      ],
      "execution_count": null,
      "outputs": []
    },
    {
      "cell_type": "code",
      "metadata": {
        "id": "0hjBtg_Sg2Wr"
      },
      "source": [
        "#print(\"Specific Coloumn\\n\")\n",
        "#df['State'].head(3)"
      ],
      "execution_count": null,
      "outputs": []
    },
    {
      "cell_type": "code",
      "metadata": {
        "id": "RSiEXOcVg2Wr"
      },
      "source": [
        "print(\"Replace negative numbers with NaN\\n\")\n",
        "df.replace(-999,np.nan)"
      ],
      "execution_count": null,
      "outputs": []
    },
    {
      "cell_type": "markdown",
      "metadata": {
        "id": "qCfPR1zUg2Ws"
      },
      "source": [
        "## Matplotlib"
      ]
    },
    {
      "cell_type": "code",
      "metadata": {
        "id": "hzhOW1ALg2Ws"
      },
      "source": [
        "import matplotlib.pyplot as plt\n",
        "import matplotlib.mlab as mlab"
      ],
      "execution_count": null,
      "outputs": []
    },
    {
      "cell_type": "markdown",
      "metadata": {
        "id": "On_CIR3Wg2Ws"
      },
      "source": [
        "### Line Plot"
      ]
    },
    {
      "cell_type": "code",
      "metadata": {
        "id": "IPPJgikxg2Ws",
        "scrolled": true
      },
      "source": [
        "# Line plot\n",
        "plt.plot([1,2,3,4],[3,4,5,6])\n",
        "plt.xlabel('some numbers')\n",
        "plt.ylabel('some numbers')\n",
        "plt.show()"
      ],
      "execution_count": null,
      "outputs": []
    },
    {
      "cell_type": "code",
      "metadata": {
        "id": "Pi04SZ33g2Ws"
      },
      "source": [
        "### Adding elements to line plots\n",
        "t = np.arange(0.0, 2.0, 0.01) # Generate equally space numbers between 0 and 2\n",
        "s = 1 + np.sin(2*np.pi*t)  # Apply sin function to the random numbers\n",
        "plt.plot(t, s)\n",
        "\n",
        "plt.xlabel('time (s)')\n",
        "plt.ylabel('voltage (mV)')\n",
        "plt.title('About as simple as it gets, folks')\n",
        "plt.grid(True)\n",
        "plt.savefig(\"test.png\") # Save a plot. Check the directory\n",
        "plt.show()"
      ],
      "execution_count": null,
      "outputs": []
    },
    {
      "cell_type": "markdown",
      "metadata": {
        "id": "_VilRBjig2Wt"
      },
      "source": [
        "### Bar Plot"
      ]
    },
    {
      "cell_type": "code",
      "metadata": {
        "id": "bP39XYCag2Wt"
      },
      "source": [
        "y = [3, 10, 7, 5, 3, 4.5, 6, 8.1]\n",
        "x = range(len(y))\n",
        "width = 1/1.5\n",
        "plt.bar(x, y, width, color=\"blue\")\n",
        "plt.show()"
      ],
      "execution_count": null,
      "outputs": []
    },
    {
      "cell_type": "markdown",
      "metadata": {
        "id": "wUU-C5eyg2Wt"
      },
      "source": [
        "### Scatter Plot"
      ]
    },
    {
      "cell_type": "code",
      "metadata": {
        "id": "TiL_1RsGg2Wt",
        "scrolled": true
      },
      "source": [
        "N = 50\n",
        "# Generate random numbers\n",
        "x = np.random.rand(N)\n",
        "y = np.random.rand(N)\n",
        "colors = np.random.rand(N)\n",
        "area = np.pi * (15 * np.random.rand(N))**2  # 0 to 15 point radii\n",
        "\n",
        "plt.scatter(x, y, s=area, c=colors, alpha=0.5)\n",
        "plt.show()"
      ],
      "execution_count": null,
      "outputs": []
    },
    {
      "cell_type": "markdown",
      "metadata": {
        "id": "q5tHoGp7g2Wu"
      },
      "source": [
        "### Pie Chart"
      ]
    },
    {
      "cell_type": "code",
      "metadata": {
        "id": "PETEEW7Ag2Wu"
      },
      "source": [
        "# Pie chart, where the slices will be ordered and plotted counter-clockwise:\n",
        "labels = 'Frogs', 'Hogs', 'Dogs', 'Logs'\n",
        "sizes = [15, 30, 45, 10]\n",
        "explode = (0, 0.1, 0, 0)  # only \"explode\" the 2nd slice (i.e. 'Hogs')\n",
        "\n",
        "fig1, ax1 = plt.subplots()\n",
        "ax1.pie(sizes, explode=explode, labels=labels, autopct='%1.1f%%',\n",
        "        shadow=True, startangle=90)\n",
        "ax1.axis('equal')  # Equal aspect ratio ensures that pie is drawn as a circle.\n",
        "\n",
        "plt.show()"
      ],
      "execution_count": null,
      "outputs": []
    }
  ]
}